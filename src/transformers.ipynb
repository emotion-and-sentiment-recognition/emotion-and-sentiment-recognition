{
 "cells": [
  {
   "cell_type": "markdown",
   "id": "3468cc83",
   "metadata": {},
   "source": [
    "# Text + Transformers"
   ]
  },
  {
   "cell_type": "markdown",
   "id": "bbc56540",
   "metadata": {},
   "source": [
    "W tej wersji przygotowujemy dane tak, by lepiej pasowały do modelu transformerowego, który analizuje całe ciągi tekstu. Łączymy komentarze w narastające ciągi i zaznaczamy, gdzie zaczyna się ostatni komentarz. To pozwala modelowi lepiej zrozumieć kontekst i dynamikę wypowiedzi. Usuwamy też znaczniki #, kodujemy etykiety i porządkujemy dane — tak, żeby były gotowe do tokenizacji i trenowania modelu."
   ]
  },
  {
   "cell_type": "code",
   "execution_count": 1,
   "id": "4f34f905",
   "metadata": {},
   "outputs": [],
   "source": [
    "import pandas as pd\n",
    "\n",
    "def concate_comments(df: pd.DataFrame) -> pd.DataFrame:  \n",
    "    processed_df = df.copy()\n",
    "    current_texts = []\n",
    "    processed_texts = []\n",
    "    \n",
    "    for idx, row in df.iterrows():\n",
    "        if row['text'].startswith('#'):\n",
    "            current_texts = []\n",
    "            processed_texts.append(row['text'])\n",
    "            continue\n",
    "            \n",
    "        if not current_texts:\n",
    "            current_texts.append(row['text'])\n",
    "            processed_texts.append(f\"[COMMENT_START] {row['text']} [COMMENT_END]\")\n",
    "        else:\n",
    "            current_texts.append(row['text'])\n",
    "            processed_texts.append(f\"{' '.join(current_texts[:-1])} [COMMENT_START] {current_texts[-1]} [COMMENT_END]\")\n",
    "    \n",
    "    processed_df['text'] = processed_texts\n",
    "    return processed_df\n",
    "\n",
    "def delete_hashs(df: pd.DataFrame) -> pd.DataFrame:\n",
    "    df = df[~df['text'].astype(str).str.startswith('#')]\n",
    "    df = df.reset_index(drop=True)\n",
    "    return df\n",
    "\n",
    "def encode_labels(df: pd.DataFrame) -> pd.DataFrame:\n",
    "    for col in ['Joy', 'Trust', 'Anticipation', 'Surprise', 'Fear','Sadness', 'Disgust', 'Anger', 'Positive', 'Negative', 'Neutral']:\n",
    "        df[col] = df[col].apply(lambda x: 1 if x else 0)\n",
    "    return df\n",
    "\n",
    "def rename_columns(df: pd.DataFrame) -> pd.DataFrame:\n",
    "    df.columns = df.columns.str.lower()\n",
    "    return df\n",
    "\n",
    "def delete_empty(df: pd.DataFrame) -> pd.DataFrame:\n",
    "    df = df[df['text'].astype(str).str.len() > 2]\n",
    "    df = df.reset_index(drop=True)\n",
    "    return df\n",
    "\n",
    "def transform(df: pd.DataFrame) -> pd.DataFrame:\n",
    "    result_df = concate_comments(df=df)\n",
    "    result_df = delete_hashs(df=result_df)\n",
    "    result_df = encode_labels(df=result_df)\n",
    "    result_df = rename_columns(df=result_df)\n",
    "    return result_df"
   ]
  },
  {
   "cell_type": "markdown",
   "id": "0fa2a89c",
   "metadata": {},
   "source": [
    "Ładujemy dane."
   ]
  },
  {
   "cell_type": "code",
   "execution_count": 2,
   "id": "c62b6092",
   "metadata": {},
   "outputs": [],
   "source": [
    "import os\n",
    "from typing import List\n",
    "\n",
    "def load_data() -> List:\n",
    "    data = []\n",
    "    \n",
    "    for type in ['train', 'val', 'test']:\n",
    "        if os.path.exists(f'../data/clean/tf_{type}.csv'):\n",
    "                df = pd.read_csv(f'../data/clean/tf_{type}.csv', index_col=0)\n",
    "        else:\n",
    "            df = pd.read_csv(f'../data/raw/{type}.csv')\n",
    "            df = transform(df=df)\n",
    "            df.to_csv(f'../data/clean/tf_{type}.csv')\n",
    "\n",
    "        data.append(df)  \n",
    "    \n",
    "    return data   "
   ]
  },
  {
   "cell_type": "code",
   "execution_count": 3,
   "id": "ac563b23",
   "metadata": {},
   "outputs": [],
   "source": [
    "data = load_data()"
   ]
  },
  {
   "cell_type": "code",
   "execution_count": 4,
   "id": "71fcaa0c",
   "metadata": {},
   "outputs": [],
   "source": [
    "train = data[0]\n",
    "val = data[1]\n",
    "test = data[2]"
   ]
  },
  {
   "cell_type": "code",
   "execution_count": 5,
   "id": "4bc1bfbc",
   "metadata": {},
   "outputs": [
    {
     "data": {
      "text/html": [
       "<div>\n",
       "<style scoped>\n",
       "    .dataframe tbody tr th:only-of-type {\n",
       "        vertical-align: middle;\n",
       "    }\n",
       "\n",
       "    .dataframe tbody tr th {\n",
       "        vertical-align: top;\n",
       "    }\n",
       "\n",
       "    .dataframe thead th {\n",
       "        text-align: right;\n",
       "    }\n",
       "</style>\n",
       "<table border=\"1\" class=\"dataframe\">\n",
       "  <thead>\n",
       "    <tr style=\"text-align: right;\">\n",
       "      <th></th>\n",
       "      <th>text</th>\n",
       "      <th>joy</th>\n",
       "      <th>trust</th>\n",
       "      <th>anticipation</th>\n",
       "      <th>surprise</th>\n",
       "      <th>fear</th>\n",
       "      <th>sadness</th>\n",
       "      <th>disgust</th>\n",
       "      <th>anger</th>\n",
       "      <th>positive</th>\n",
       "      <th>negative</th>\n",
       "      <th>neutral</th>\n",
       "    </tr>\n",
       "  </thead>\n",
       "  <tbody>\n",
       "    <tr>\n",
       "      <th>0</th>\n",
       "      <td>[COMMENT_START] 2 gwiazdki. [COMMENT_END]</td>\n",
       "      <td>0</td>\n",
       "      <td>0</td>\n",
       "      <td>0</td>\n",
       "      <td>1</td>\n",
       "      <td>0</td>\n",
       "      <td>1</td>\n",
       "      <td>0</td>\n",
       "      <td>1</td>\n",
       "      <td>0</td>\n",
       "      <td>1</td>\n",
       "      <td>0</td>\n",
       "    </tr>\n",
       "    <tr>\n",
       "      <th>1</th>\n",
       "      <td>2 gwiazdki. [COMMENT_START] Na tyle maksymalni...</td>\n",
       "      <td>0</td>\n",
       "      <td>0</td>\n",
       "      <td>0</td>\n",
       "      <td>0</td>\n",
       "      <td>0</td>\n",
       "      <td>1</td>\n",
       "      <td>1</td>\n",
       "      <td>1</td>\n",
       "      <td>0</td>\n",
       "      <td>1</td>\n",
       "      <td>0</td>\n",
       "    </tr>\n",
       "    <tr>\n",
       "      <th>2</th>\n",
       "      <td>2 gwiazdki. Na tyle maksymalnie zasługuje ten ...</td>\n",
       "      <td>0</td>\n",
       "      <td>0</td>\n",
       "      <td>0</td>\n",
       "      <td>0</td>\n",
       "      <td>0</td>\n",
       "      <td>0</td>\n",
       "      <td>1</td>\n",
       "      <td>1</td>\n",
       "      <td>0</td>\n",
       "      <td>1</td>\n",
       "      <td>0</td>\n",
       "    </tr>\n",
       "    <tr>\n",
       "      <th>3</th>\n",
       "      <td>2 gwiazdki. Na tyle maksymalnie zasługuje ten ...</td>\n",
       "      <td>0</td>\n",
       "      <td>0</td>\n",
       "      <td>0</td>\n",
       "      <td>0</td>\n",
       "      <td>0</td>\n",
       "      <td>1</td>\n",
       "      <td>1</td>\n",
       "      <td>1</td>\n",
       "      <td>0</td>\n",
       "      <td>1</td>\n",
       "      <td>0</td>\n",
       "    </tr>\n",
       "    <tr>\n",
       "      <th>4</th>\n",
       "      <td>2 gwiazdki. Na tyle maksymalnie zasługuje ten ...</td>\n",
       "      <td>1</td>\n",
       "      <td>0</td>\n",
       "      <td>0</td>\n",
       "      <td>0</td>\n",
       "      <td>0</td>\n",
       "      <td>0</td>\n",
       "      <td>0</td>\n",
       "      <td>1</td>\n",
       "      <td>0</td>\n",
       "      <td>1</td>\n",
       "      <td>1</td>\n",
       "    </tr>\n",
       "    <tr>\n",
       "      <th>5</th>\n",
       "      <td>2 gwiazdki. Na tyle maksymalnie zasługuje ten ...</td>\n",
       "      <td>1</td>\n",
       "      <td>0</td>\n",
       "      <td>0</td>\n",
       "      <td>0</td>\n",
       "      <td>0</td>\n",
       "      <td>0</td>\n",
       "      <td>0</td>\n",
       "      <td>0</td>\n",
       "      <td>1</td>\n",
       "      <td>0</td>\n",
       "      <td>1</td>\n",
       "    </tr>\n",
       "    <tr>\n",
       "      <th>6</th>\n",
       "      <td>2 gwiazdki. Na tyle maksymalnie zasługuje ten ...</td>\n",
       "      <td>1</td>\n",
       "      <td>0</td>\n",
       "      <td>0</td>\n",
       "      <td>0</td>\n",
       "      <td>0</td>\n",
       "      <td>0</td>\n",
       "      <td>0</td>\n",
       "      <td>0</td>\n",
       "      <td>1</td>\n",
       "      <td>0</td>\n",
       "      <td>1</td>\n",
       "    </tr>\n",
       "    <tr>\n",
       "      <th>7</th>\n",
       "      <td>2 gwiazdki. Na tyle maksymalnie zasługuje ten ...</td>\n",
       "      <td>0</td>\n",
       "      <td>0</td>\n",
       "      <td>0</td>\n",
       "      <td>1</td>\n",
       "      <td>0</td>\n",
       "      <td>1</td>\n",
       "      <td>0</td>\n",
       "      <td>0</td>\n",
       "      <td>0</td>\n",
       "      <td>1</td>\n",
       "      <td>0</td>\n",
       "    </tr>\n",
       "    <tr>\n",
       "      <th>8</th>\n",
       "      <td>2 gwiazdki. Na tyle maksymalnie zasługuje ten ...</td>\n",
       "      <td>1</td>\n",
       "      <td>0</td>\n",
       "      <td>0</td>\n",
       "      <td>0</td>\n",
       "      <td>0</td>\n",
       "      <td>0</td>\n",
       "      <td>0</td>\n",
       "      <td>1</td>\n",
       "      <td>1</td>\n",
       "      <td>1</td>\n",
       "      <td>1</td>\n",
       "    </tr>\n",
       "    <tr>\n",
       "      <th>9</th>\n",
       "      <td>2 gwiazdki. Na tyle maksymalnie zasługuje ten ...</td>\n",
       "      <td>0</td>\n",
       "      <td>0</td>\n",
       "      <td>0</td>\n",
       "      <td>0</td>\n",
       "      <td>0</td>\n",
       "      <td>0</td>\n",
       "      <td>0</td>\n",
       "      <td>1</td>\n",
       "      <td>0</td>\n",
       "      <td>1</td>\n",
       "      <td>0</td>\n",
       "    </tr>\n",
       "  </tbody>\n",
       "</table>\n",
       "</div>"
      ],
      "text/plain": [
       "                                                text  joy  trust  \\\n",
       "0          [COMMENT_START] 2 gwiazdki. [COMMENT_END]    0      0   \n",
       "1  2 gwiazdki. [COMMENT_START] Na tyle maksymalni...    0      0   \n",
       "2  2 gwiazdki. Na tyle maksymalnie zasługuje ten ...    0      0   \n",
       "3  2 gwiazdki. Na tyle maksymalnie zasługuje ten ...    0      0   \n",
       "4  2 gwiazdki. Na tyle maksymalnie zasługuje ten ...    1      0   \n",
       "5  2 gwiazdki. Na tyle maksymalnie zasługuje ten ...    1      0   \n",
       "6  2 gwiazdki. Na tyle maksymalnie zasługuje ten ...    1      0   \n",
       "7  2 gwiazdki. Na tyle maksymalnie zasługuje ten ...    0      0   \n",
       "8  2 gwiazdki. Na tyle maksymalnie zasługuje ten ...    1      0   \n",
       "9  2 gwiazdki. Na tyle maksymalnie zasługuje ten ...    0      0   \n",
       "\n",
       "   anticipation  surprise  fear  sadness  disgust  anger  positive  negative  \\\n",
       "0             0         1     0        1        0      1         0         1   \n",
       "1             0         0     0        1        1      1         0         1   \n",
       "2             0         0     0        0        1      1         0         1   \n",
       "3             0         0     0        1        1      1         0         1   \n",
       "4             0         0     0        0        0      1         0         1   \n",
       "5             0         0     0        0        0      0         1         0   \n",
       "6             0         0     0        0        0      0         1         0   \n",
       "7             0         1     0        1        0      0         0         1   \n",
       "8             0         0     0        0        0      1         1         1   \n",
       "9             0         0     0        0        0      1         0         1   \n",
       "\n",
       "   neutral  \n",
       "0        0  \n",
       "1        0  \n",
       "2        0  \n",
       "3        0  \n",
       "4        1  \n",
       "5        1  \n",
       "6        1  \n",
       "7        0  \n",
       "8        1  \n",
       "9        0  "
      ]
     },
     "execution_count": 5,
     "metadata": {},
     "output_type": "execute_result"
    }
   ],
   "source": [
    "train.head(10)"
   ]
  },
  {
   "cell_type": "markdown",
   "id": "d4b09c1a",
   "metadata": {},
   "source": [
    "Tworzymy tu własną klasę Dataset, która przygotowuje dane tekstowe do modelu transformerowego. Tokenizujemy każdy tekst, dodajemy maskę uwagi i etykiety. Dzięki temu możemy używać DataLoadera do wydajnego trenowania modelu — z automatycznym batchowaniem, losowaniem i przerzucaniem danych na GPU."
   ]
  },
  {
   "cell_type": "code",
   "execution_count": 6,
   "id": "ccdc5b53",
   "metadata": {},
   "outputs": [],
   "source": [
    "from torch.utils.data import Dataset, DataLoader\n",
    "\n",
    "class EmotionDataset(Dataset):\n",
    "    def __init__(self, texts, labels, tokenizer, max_length=512):\n",
    "        self.texts = texts\n",
    "        self.labels = labels\n",
    "        self.tokenizer = tokenizer\n",
    "        self.max_length = max_length\n",
    "    \n",
    "    def __len__(self):\n",
    "        return len(self.texts)\n",
    "    \n",
    "    def __getitem__(self, idx):\n",
    "        text = str(self.texts[idx])\n",
    "        encoding = self.tokenizer(\n",
    "            text,\n",
    "            truncation=True,\n",
    "            padding='max_length',\n",
    "            max_length=self.max_length,\n",
    "            return_tensors='pt'\n",
    "        )\n",
    "        \n",
    "        return {\n",
    "            'input_ids': encoding['input_ids'].flatten(),\n",
    "            'attention_mask': encoding['attention_mask'].flatten(),\n",
    "            'labels': torch.FloatTensor(self.labels[idx])\n",
    "        }\n"
   ]
  },
  {
   "cell_type": "markdown",
   "id": "2e2a8303",
   "metadata": {},
   "source": [
    "Ta funkcja liczy metryki jakości predykcji modelu transformerowego. Ponieważ klasyfikujemy wiele emocji jednocześnie, używamy funkcji aktywacji sigmoid, a potem sprawdzamy, które emocje model uznał za obecne."
   ]
  },
  {
   "cell_type": "code",
   "execution_count": 7,
   "id": "eafbf0f5",
   "metadata": {},
   "outputs": [],
   "source": [
    "from typing import Dict\n",
    "from sklearn.metrics import accuracy_score, f1_score, hamming_loss\n",
    "\n",
    "def compute_metrics(eval_pred) -> Dict:\n",
    "    predictions, labels = eval_pred\n",
    "    predictions = torch.sigmoid(torch.tensor(predictions))\n",
    "    predictions = (predictions > 0.5).float()\n",
    "    \n",
    "    f1_macro = f1_score(labels, predictions, average='macro', zero_division=0)\n",
    "    \n",
    "    f1_micro = f1_score(labels, predictions, average='micro', zero_division=0)\n",
    "    \n",
    "    return {\n",
    "        'f1_macro': f1_macro,\n",
    "        'f1_micro': f1_micro\n",
    "    }"
   ]
  },
  {
   "cell_type": "markdown",
   "id": "204d974b",
   "metadata": {},
   "source": [
    "Funkcja prepare_data() oddziela dane tekstowe od etykiet emocji. Wypisujemy, które kolumny są etykietami, i tworzymy z nich macierz typu float. To pozwala łatwo przekształcić dane do formatu potrzebnego przy tworzeniu zbioru Dataset i trenowaniu modelu."
   ]
  },
  {
   "cell_type": "code",
   "execution_count": 8,
   "id": "8d70ff71",
   "metadata": {},
   "outputs": [],
   "source": [
    "from typing import Tuple\n",
    "\n",
    "def prepare_data(df: pd.DataFrame) -> Tuple:\n",
    "    emotion_columns = ['joy', 'trust', 'anticipation', 'surprise', 'fear','sadness', 'disgust', 'anger', 'positive', 'negative', 'neutral']\n",
    "\n",
    "    texts = df['text'].tolist()\n",
    "    labels = df[emotion_columns].values.astype(float)\n",
    "    \n",
    "    return texts, labels, emotion_columns"
   ]
  },
  {
   "cell_type": "markdown",
   "id": "6774f6b9",
   "metadata": {},
   "source": [
    "Funkcja train_emotion_classifier pozwala w prosty sposób wytrenować model transformerowy do wieloetykietowej klasyfikacji emocji. Wykorzystujemy tokenizer i model z biblioteki Hugging Face, przygotowujemy dane, definiujemy metryki, konfigurujemy Trainer, trenujemy, zapisujemy model i testujemy go na danych testowych. Dzięki zastosowaniu Trainer otrzymujemy prosty, ale elastyczny interfejs."
   ]
  },
  {
   "cell_type": "code",
   "execution_count": 9,
   "id": "dc378dba",
   "metadata": {},
   "outputs": [
    {
     "name": "stdout",
     "output_type": "stream",
     "text": [
      "WARNING:tensorflow:From c:\\Users\\mchoj\\Documents\\GitHub\\emotion-and-sentiment-recognition\\.venv\\Lib\\site-packages\\tf_keras\\src\\losses.py:2976: The name tf.losses.sparse_softmax_cross_entropy is deprecated. Please use tf.compat.v1.losses.sparse_softmax_cross_entropy instead.\n",
      "\n"
     ]
    }
   ],
   "source": [
    "import pandas as pd\n",
    "import numpy as np\n",
    "\n",
    "import torch\n",
    "\n",
    "from transformers import AutoTokenizer, AutoModelForSequenceClassification\n",
    "from transformers.training_args import TrainingArguments\n",
    "from transformers.trainer import Trainer\n",
    "from transformers.trainer_callback import EarlyStoppingCallback\n",
    "\n",
    "def train_emotion_classifier(train: pd.DataFrame, test: pd.DataFrame, val: pd.DataFrame, model_name: str='sdadas/polish-distilroberta', test_size: float=0.2):\n",
    "    train_texts, train_labels, train_emotion_columns = prepare_data(train)\n",
    "    test_texts, test_labels, test_emotion_columns = prepare_data(test)\n",
    "    val_texts, val_labels, val_emotion_columns = prepare_data(val)\n",
    "    \n",
    "    tokenizer = AutoTokenizer.from_pretrained(model_name)\n",
    "    model = AutoModelForSequenceClassification.from_pretrained(\n",
    "        model_name,\n",
    "        num_labels=len(train_emotion_columns),\n",
    "        problem_type=\"multi_label_classification\"\n",
    "    )\n",
    "    \n",
    "    train_dataset = EmotionDataset(train_texts, train_labels, tokenizer)\n",
    "    test_dataset = EmotionDataset(test_texts, test_labels, tokenizer)\n",
    "    val_dataset = EmotionDataset(val_texts, val_labels, tokenizer)\n",
    "\n",
    "    training_args = TrainingArguments(\n",
    "        output_dir='../models/emotion_model',\n",
    "        num_train_epochs=8,\n",
    "        per_device_train_batch_size=16,\n",
    "        per_device_eval_batch_size=16,\n",
    "        gradient_accumulation_steps=2,\n",
    "        fp16=True,\n",
    "        learning_rate=2e-5,\n",
    "        warmup_steps=500,\n",
    "        weight_decay=0.01,\n",
    "        logging_dir='../logs',\n",
    "        logging_steps=100,\n",
    "        eval_strategy=\"steps\",\n",
    "        eval_steps=250,\n",
    "        save_strategy=\"steps\",\n",
    "        save_steps=250,\n",
    "        load_best_model_at_end=True,\n",
    "        metric_for_best_model=\"f1_macro\",\n",
    "        greater_is_better=True,\n",
    "        report_to=None,\n",
    "    )\n",
    "    \n",
    "    trainer = Trainer(\n",
    "        model=model,\n",
    "        args=training_args,\n",
    "        train_dataset=train_dataset,\n",
    "        eval_dataset=val_dataset,\n",
    "        compute_metrics=compute_metrics,\n",
    "        callbacks=[EarlyStoppingCallback(early_stopping_patience=3)],\n",
    "    )\n",
    "    \n",
    "    print(\"Staring fine-tuning...\")\n",
    "    trainer.train()\n",
    "    \n",
    "    trainer.save_model('../models/transformers_final')\n",
    "    tokenizer.save_pretrained('../models/transformers_final')\n",
    "    \n",
    "    print(\"\\nEvaluation:\")\n",
    "    test_results = trainer.evaluate(test_dataset)\n",
    "    for key, value in test_results.items():\n",
    "        print(f\"{key}: {value:.4f}\")\n",
    "    \n",
    "    return trainer, model, tokenizer"
   ]
  },
  {
   "cell_type": "code",
   "execution_count": 10,
   "id": "f8110e38",
   "metadata": {},
   "outputs": [
    {
     "data": {
      "application/vnd.jupyter.widget-view+json": {
       "model_id": "da2dad146c284d4786f762615cafe4bb",
       "version_major": 2,
       "version_minor": 0
      },
      "text/plain": [
       "tokenizer_config.json:   0%|          | 0.00/343 [00:00<?, ?B/s]"
      ]
     },
     "metadata": {},
     "output_type": "display_data"
    },
    {
     "data": {
      "application/vnd.jupyter.widget-view+json": {
       "model_id": "67f603c696b94f2d8bdf5849c9d3f0b2",
       "version_major": 2,
       "version_minor": 0
      },
      "text/plain": [
       "tokenizer.json:   0%|          | 0.00/3.36M [00:00<?, ?B/s]"
      ]
     },
     "metadata": {},
     "output_type": "display_data"
    },
    {
     "data": {
      "application/vnd.jupyter.widget-view+json": {
       "model_id": "3b3e3d4d7b1047c49080d53a12e7668a",
       "version_major": 2,
       "version_minor": 0
      },
      "text/plain": [
       "special_tokens_map.json:   0%|          | 0.00/239 [00:00<?, ?B/s]"
      ]
     },
     "metadata": {},
     "output_type": "display_data"
    },
    {
     "data": {
      "application/vnd.jupyter.widget-view+json": {
       "model_id": "4fa27c713a4244099d6158295554cec7",
       "version_major": 2,
       "version_minor": 0
      },
      "text/plain": [
       "config.json:   0%|          | 0.00/726 [00:00<?, ?B/s]"
      ]
     },
     "metadata": {},
     "output_type": "display_data"
    },
    {
     "data": {
      "application/vnd.jupyter.widget-view+json": {
       "model_id": "e3ef32ed247847aba90f5fbb6ce6bb27",
       "version_major": 2,
       "version_minor": 0
      },
      "text/plain": [
       "model.safetensors:   0%|          | 0.00/498M [00:00<?, ?B/s]"
      ]
     },
     "metadata": {},
     "output_type": "display_data"
    },
    {
     "name": "stderr",
     "output_type": "stream",
     "text": [
      "Some weights of RobertaForSequenceClassification were not initialized from the model checkpoint at sdadas/polish-roberta-base-v2 and are newly initialized: ['classifier.dense.bias', 'classifier.dense.weight', 'classifier.out_proj.bias', 'classifier.out_proj.weight']\n",
      "You should probably TRAIN this model on a down-stream task to be able to use it for predictions and inference.\n"
     ]
    },
    {
     "name": "stdout",
     "output_type": "stream",
     "text": [
      "Staring fine-tuning...\n"
     ]
    },
    {
     "name": "stderr",
     "output_type": "stream",
     "text": [
      "c:\\Users\\mchoj\\Documents\\GitHub\\emotion-and-sentiment-recognition\\.venv\\Lib\\site-packages\\torch\\utils\\data\\dataloader.py:665: UserWarning: 'pin_memory' argument is set as true but no accelerator is found, then device pinned memory won't be used.\n",
      "  warnings.warn(warn_msg)\n"
     ]
    },
    {
     "data": {
      "text/html": [
       "\n",
       "    <div>\n",
       "      \n",
       "      <progress value='1600' max='1600' style='width:300px; height:20px; vertical-align: middle;'></progress>\n",
       "      [1600/1600 15:17:36, Epoch 8/8]\n",
       "    </div>\n",
       "    <table border=\"1\" class=\"dataframe\">\n",
       "  <thead>\n",
       " <tr style=\"text-align: left;\">\n",
       "      <th>Step</th>\n",
       "      <th>Training Loss</th>\n",
       "      <th>Validation Loss</th>\n",
       "      <th>F1 Macro</th>\n",
       "      <th>F1 Micro</th>\n",
       "    </tr>\n",
       "  </thead>\n",
       "  <tbody>\n",
       "    <tr>\n",
       "      <td>250</td>\n",
       "      <td>0.512700</td>\n",
       "      <td>0.395444</td>\n",
       "      <td>0.356632</td>\n",
       "      <td>0.688107</td>\n",
       "    </tr>\n",
       "    <tr>\n",
       "      <td>500</td>\n",
       "      <td>0.300900</td>\n",
       "      <td>0.296459</td>\n",
       "      <td>0.556419</td>\n",
       "      <td>0.785477</td>\n",
       "    </tr>\n",
       "    <tr>\n",
       "      <td>750</td>\n",
       "      <td>0.248800</td>\n",
       "      <td>0.263826</td>\n",
       "      <td>0.578670</td>\n",
       "      <td>0.805540</td>\n",
       "    </tr>\n",
       "    <tr>\n",
       "      <td>1000</td>\n",
       "      <td>0.205600</td>\n",
       "      <td>0.251273</td>\n",
       "      <td>0.592161</td>\n",
       "      <td>0.810029</td>\n",
       "    </tr>\n",
       "    <tr>\n",
       "      <td>1250</td>\n",
       "      <td>0.182800</td>\n",
       "      <td>0.248687</td>\n",
       "      <td>0.629284</td>\n",
       "      <td>0.823074</td>\n",
       "    </tr>\n",
       "    <tr>\n",
       "      <td>1500</td>\n",
       "      <td>0.163300</td>\n",
       "      <td>0.243865</td>\n",
       "      <td>0.627706</td>\n",
       "      <td>0.824719</td>\n",
       "    </tr>\n",
       "  </tbody>\n",
       "</table><p>"
      ],
      "text/plain": [
       "<IPython.core.display.HTML object>"
      ]
     },
     "metadata": {},
     "output_type": "display_data"
    },
    {
     "name": "stderr",
     "output_type": "stream",
     "text": [
      "c:\\Users\\mchoj\\Documents\\GitHub\\emotion-and-sentiment-recognition\\.venv\\Lib\\site-packages\\torch\\utils\\data\\dataloader.py:665: UserWarning: 'pin_memory' argument is set as true but no accelerator is found, then device pinned memory won't be used.\n",
      "  warnings.warn(warn_msg)\n",
      "c:\\Users\\mchoj\\Documents\\GitHub\\emotion-and-sentiment-recognition\\.venv\\Lib\\site-packages\\torch\\utils\\data\\dataloader.py:665: UserWarning: 'pin_memory' argument is set as true but no accelerator is found, then device pinned memory won't be used.\n",
      "  warnings.warn(warn_msg)\n",
      "c:\\Users\\mchoj\\Documents\\GitHub\\emotion-and-sentiment-recognition\\.venv\\Lib\\site-packages\\torch\\utils\\data\\dataloader.py:665: UserWarning: 'pin_memory' argument is set as true but no accelerator is found, then device pinned memory won't be used.\n",
      "  warnings.warn(warn_msg)\n",
      "c:\\Users\\mchoj\\Documents\\GitHub\\emotion-and-sentiment-recognition\\.venv\\Lib\\site-packages\\torch\\utils\\data\\dataloader.py:665: UserWarning: 'pin_memory' argument is set as true but no accelerator is found, then device pinned memory won't be used.\n",
      "  warnings.warn(warn_msg)\n",
      "c:\\Users\\mchoj\\Documents\\GitHub\\emotion-and-sentiment-recognition\\.venv\\Lib\\site-packages\\torch\\utils\\data\\dataloader.py:665: UserWarning: 'pin_memory' argument is set as true but no accelerator is found, then device pinned memory won't be used.\n",
      "  warnings.warn(warn_msg)\n"
     ]
    },
    {
     "name": "stdout",
     "output_type": "stream",
     "text": [
      "\n",
      "Evaluation:\n"
     ]
    },
    {
     "name": "stderr",
     "output_type": "stream",
     "text": [
      "c:\\Users\\mchoj\\Documents\\GitHub\\emotion-and-sentiment-recognition\\.venv\\Lib\\site-packages\\torch\\utils\\data\\dataloader.py:665: UserWarning: 'pin_memory' argument is set as true but no accelerator is found, then device pinned memory won't be used.\n",
      "  warnings.warn(warn_msg)\n"
     ]
    },
    {
     "data": {
      "text/html": [
       "\n",
       "    <div>\n",
       "      \n",
       "      <progress value='79' max='79' style='width:300px; height:20px; vertical-align: middle;'></progress>\n",
       "      [79/79 03:53]\n",
       "    </div>\n",
       "    "
      ],
      "text/plain": [
       "<IPython.core.display.HTML object>"
      ]
     },
     "metadata": {},
     "output_type": "display_data"
    },
    {
     "name": "stdout",
     "output_type": "stream",
     "text": [
      "eval_loss: 0.2572\n",
      "eval_f1_macro: 0.6247\n",
      "eval_f1_micro: 0.8050\n",
      "eval_runtime: 236.4382\n",
      "eval_samples_per_second: 5.3460\n",
      "eval_steps_per_second: 0.3340\n",
      "epoch: 8.0000\n"
     ]
    }
   ],
   "source": [
    "trainer, model, tokenizer = train_emotion_classifier(train=train, test=test, val=val, model_name='sdadas/polish-roberta-base-v2')"
   ]
  },
  {
   "cell_type": "markdown",
   "id": "1da49f23",
   "metadata": {},
   "source": [
    "Nasz model transformerowy osiągnął bardzo dobre wyniki – F1-macro na poziomie 0.62 i F1-micro 0.80. To oznacza, że rozpoznaje emocje trafnie zarówno globalnie, jak i w mniej reprezentatywnych klasach. Trening przebiegał stabilnie, a metryki systematycznie rosły. Cały pipeline działa w oparciu o pretrenowany model językowy RoBERTa dopasowany do języka polskiego.\n"
   ]
  },
  {
   "cell_type": "code",
   "execution_count": 13,
   "id": "3fc1a3f0",
   "metadata": {},
   "outputs": [],
   "source": [
    "from transformers import AutoTokenizer, AutoModelForSequenceClassification\n",
    "import torch\n",
    "\n",
    "def load_emotion_model(model_path='../models/transformers_final'):\n",
    "    tokenizer = AutoTokenizer.from_pretrained(model_path)\n",
    "    model = AutoModelForSequenceClassification.from_pretrained(\n",
    "        model_path,\n",
    "        problem_type=\"multi_label_classification\"\n",
    "    )\n",
    "    model.eval()\n",
    "    \n",
    "    device = torch.device(\"cuda\" if torch.cuda.is_available() else \"cpu\")\n",
    "    model = model.to(device)\n",
    "    \n",
    "    return model, tokenizer\n",
    "\n",
    "model, tokenizer = load_emotion_model()"
   ]
  },
  {
   "cell_type": "code",
   "execution_count": null,
   "id": "260912f1",
   "metadata": {},
   "outputs": [],
   "source": [
    "import numpy as np\n",
    "from sklearn.metrics import precision_recall_fscore_support\n",
    "from typing import Dict, List, Tuple\n",
    "\n",
    "def evaluate_predictions(model: AutoModelForSequenceClassification, \n",
    "                       tokenizer: AutoTokenizer,\n",
    "                       texts: List[str],\n",
    "                       true_labels: np.ndarray,\n",
    "                       emotion_columns: List[str],\n",
    "                       max_length: int = 512) -> Dict:\n",
    "    \n",
    "    model.eval()\n",
    "    device = model.device\n",
    "    \n",
    "    predictions = []\n",
    "    with torch.no_grad():\n",
    "        for text in texts:\n",
    "            inputs = tokenizer(\n",
    "                text,\n",
    "                truncation=True,\n",
    "                padding=True,\n",
    "                max_length=max_length,\n",
    "                return_tensors=\"pt\"\n",
    "            ).to(device)\n",
    "            \n",
    "            outputs = model(**inputs)\n",
    "            pred = torch.sigmoid(outputs.logits).cpu().numpy()\n",
    "            predictions.append(pred[0])\n",
    "    \n",
    "    predictions = np.array(predictions)\n",
    "    pred_labels = (predictions > 0.5).astype(int)\n",
    "    \n",
    "\n",
    "    results = {}\n",
    "    total_f1 = 0\n",
    "    total_precision = 0\n",
    "    total_recall = 0\n",
    "    \n",
    "    for idx, emotion in enumerate(emotion_columns):\n",
    "        tp = np.sum((pred_labels[:, idx] == 1) & (true_labels[:, idx] == 1))\n",
    "        fp = np.sum((pred_labels[:, idx] == 1) & (true_labels[:, idx] == 0))\n",
    "        fn = np.sum((pred_labels[:, idx] == 0) & (true_labels[:, idx] == 1))\n",
    "        \n",
    "        precision = tp / (tp + fp) if (tp + fp) > 0 else 0\n",
    "        recall = tp / (tp + fn) if (tp + fn) > 0 else 0\n",
    "        f1 = 2 * (precision * recall) / (precision + recall) if (precision + recall) > 0 else 0\n",
    "        \n",
    "        results[emotion] = {\n",
    "            'precision': precision,\n",
    "            'recall': recall,\n",
    "            'f1': f1\n",
    "        }\n",
    "        \n",
    "        total_f1 += f1\n",
    "        total_precision += precision\n",
    "        total_recall += recall\n",
    "    \n",
    "    n_emotions = len(emotion_columns)\n",
    "    results['custom_avg'] = {\n",
    "        'precision': total_precision / n_emotions,\n",
    "        'recall': total_recall / n_emotions,\n",
    "        'f1': total_f1 / n_emotions\n",
    "    }\n",
    "    \n",
    "    total_tp = np.sum((pred_labels == 1) & (true_labels == 1))\n",
    "    total_fp = np.sum((pred_labels == 1) & (true_labels == 0))\n",
    "    total_fn = np.sum((pred_labels == 0) & (true_labels == 1))\n",
    "    \n",
    "    micro_precision = total_tp / (total_tp + total_fp) if (total_tp + total_fp) > 0 else 0\n",
    "    micro_recall = total_tp / (total_tp + total_fn) if (total_tp + total_fn) > 0 else 0\n",
    "    micro_f1 = 2 * (micro_precision * micro_recall) / (micro_precision + micro_recall) if (micro_precision + micro_recall) > 0 else 0\n",
    "    \n",
    "    results['micro_avg'] = {\n",
    "        'precision': micro_precision,\n",
    "        'recall': micro_recall,\n",
    "        'f1': micro_f1\n",
    "    }\n",
    "    \n",
    "    return results\n",
   ]
  },
  {
   "cell_type": "code",
   "execution_count": 20,
   "id": "0035bcc1",
   "metadata": {},
   "outputs": [
    {
     "name": "stderr",
     "output_type": "stream",
     "text": [
      "c:\\Users\\mchoj\\Documents\\GitHub\\emotion-and-sentiment-recognition\\.venv\\Lib\\site-packages\\sklearn\\metrics\\_classification.py:1565: UndefinedMetricWarning: Precision is ill-defined and being set to 0.0 due to no predicted samples. Use `zero_division` parameter to control this behavior.\n",
      "  _warn_prf(average, modifier, f\"{metric.capitalize()} is\", len(result))\n"
     ]
    }
   ],
   "source": [
    "test_texts, test_labels, emotion_columns = prepare_data(test)\n",
    "\n",
    "results = evaluate_predictions(\n",
    "    model=model,\n",
    "    tokenizer=tokenizer,\n",
    "    texts=test_texts,\n",
    "    true_labels=test_labels,\n",
    "    emotion_columns=emotion_columns\n",
    ")"
   ]
  },
  {
   "cell_type": "code",
   "execution_count": null,
   "id": "7614ae9c",
   "metadata": {},
   "outputs": [
    {
     "name": "stdout",
     "output_type": "stream",
     "text": [
      "\n",
      "Per-emotion metrics:\n",
      "\n",
      "JOY:\n",
      "F1: 0.868\n",
      "Precision: 0.832\n",
      "Recall: 0.907\n",
      "\n",
      "TRUST:\n",
      "F1: 0.689\n",
      "Precision: 0.659\n",
      "Recall: 0.722\n",
      "\n",
      "ANTICIPATION:\n",
      "F1: 0.470\n",
      "Precision: 0.627\n",
      "Recall: 0.376\n",
      "\n",
      "SURPRISE:\n",
      "F1: 0.000\n",
      "Precision: 0.000\n",
      "Recall: 0.000\n",
      "\n",
      "FEAR:\n",
      "F1: 0.033\n",
      "Precision: 0.500\n",
      "Recall: 0.017\n",
      "\n",
      "SADNESS:\n",
      "F1: 0.892\n",
      "Precision: 0.878\n",
      "Recall: 0.905\n",
      "\n",
      "DISGUST:\n",
      "F1: 0.712\n",
      "Precision: 0.688\n",
      "Recall: 0.737\n",
      "\n",
      "ANGER:\n",
      "F1: 0.679\n",
      "Precision: 0.774\n",
      "Recall: 0.605\n",
      "\n",
      "POSITIVE:\n",
      "F1: 0.875\n",
      "Precision: 0.867\n",
      "Recall: 0.885\n",
      "\n",
      "NEGATIVE:\n",
      "F1: 0.900\n",
      "Precision: 0.891\n",
      "Recall: 0.908\n",
      "\n",
      "NEUTRAL:\n",
      "F1: 0.754\n",
      "Precision: 0.859\n",
      "Recall: 0.672\n"
     ]
    }
   ],
   "source": [
    "print(\"\\nPer-emotion metrics:\")\n",
    "for emotion in emotion_columns:\n",
    "    print(f\"\\n{emotion.upper()}:\")\n",
    "    print(f\"F1: {custom_results[emotion]['f1']:.3f}\")\n",
    "    print(f\"Precision: {custom_results[emotion]['precision']:.3f}\")\n",
    "    print(f\"Recall: {custom_results[emotion]['recall']:.3f}\")"
   ]
  },
  {
   "cell_type": "code",
   "execution_count": null,
   "id": "0659b8ef",
   "metadata": {},
   "outputs": [
    {
     "name": "stdout",
     "output_type": "stream",
     "text": [
      "\n",
      "Micro-averaged metrics:\n",
      "F1: 0.901\n",
      "Precision: 0.901\n",
      "Recall: 0.901\n"
     ]
    }
   ],
   "source": [
    "print(\"\\nCustom averaged metrics (mean of individual scores):\")\n",
    "print(f\"F1: {custom_results['custom_avg']['f1']:.3f}\")\n",
    "print(f\"Precision: {custom_results['custom_avg']['precision']:.3f}\")\n",
    "print(f\"Recall: {custom_results['custom_avg']['recall']:.3f}\")"
   ]
  },
  {
   "cell_type": "code",
   "execution_count": null,
   "id": "0339985f",
   "metadata": {},
   "outputs": [],
   "source": [
    "print(\"\\nMicro-averaged metrics (calculated on all predictions):\")\n",
    "print(f\"F1: {custom_results['micro_avg']['f1']:.3f}\")\n",
    "print(f\"Precision: {custom_results['micro_avg']['precision']:.3f}\")\n",
    "print(f\"Recall: {custom_results['micro_avg']['recall']:.3f}\")"
   ]
  }
 ],
 "metadata": {
  "kernelspec": {
   "display_name": ".venv",
   "language": "python",
   "name": "python3"
  },
  "language_info": {
   "codemirror_mode": {
    "name": "ipython",
    "version": 3
   },
   "file_extension": ".py",
   "mimetype": "text/x-python",
   "name": "python",
   "nbconvert_exporter": "python",
   "pygments_lexer": "ipython3",
   "version": "3.11.12"
  }
 },
 "nbformat": 4,
 "nbformat_minor": 5
}
