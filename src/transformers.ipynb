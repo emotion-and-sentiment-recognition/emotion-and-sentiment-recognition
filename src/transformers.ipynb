{
 "cells": [
  {
   "cell_type": "code",
   "execution_count": 1,
   "id": "894d8a82",
   "metadata": {},
   "outputs": [],
   "source": [
    "# sdadas/polish-distilroberta"
   ]
  },
  {
   "cell_type": "code",
   "execution_count": 2,
   "id": "19b2ca9b",
   "metadata": {},
   "outputs": [],
   "source": [
    "import pandas as pd\n",
    "import numpy as np\n",
    "\n",
    "import torch\n",
    "from torch.utils.data import Dataset, DataLoader\n",
    "\n",
    "from transformers import AutoTokenizer, AutoModelForSequenceClassification\n",
    "from transformers.training_args import TrainingArguments\n",
    "from transformers.trainer import Trainer\n",
    "from transformers.trainer_callback import EarlyStoppingCallback\n",
    "\n",
    "from sklearn.model_selection import train_test_split\n",
    "from sklearn.metrics import accuracy_score, f1_score, hamming_loss"
   ]
  },
  {
   "cell_type": "code",
   "execution_count": 3,
   "metadata": {},
   "outputs": [],
   "source": [
    "class EmotionDataset(Dataset):\n",
    "    def __init__(self, texts, labels, tokenizer, max_length=512):\n",
    "        self.texts = texts\n",
    "        self.labels = labels\n",
    "        self.tokenizer = tokenizer\n",
    "        self.max_length = max_length\n",
    "    \n",
    "    def __len__(self):\n",
    "        return len(self.texts)\n",
    "    \n",
    "    def __getitem__(self, idx):\n",
    "        text = str(self.texts[idx])\n",
    "        encoding = self.tokenizer(\n",
    "            text,\n",
    "            truncation=True,\n",
    "            padding='max_length',\n",
    "            max_length=self.max_length,\n",
    "            return_tensors='pt'\n",
    "        )\n",
    "        \n",
    "        return {\n",
    "            'input_ids': encoding['input_ids'].flatten(),\n",
    "            'attention_mask': encoding['attention_mask'].flatten(),\n",
    "            'labels': torch.FloatTensor(self.labels[idx])\n",
    "        }\n"
   ]
  },
  {
   "cell_type": "code",
   "execution_count": 4,
   "id": "fc826f44",
   "metadata": {},
   "outputs": [],
   "source": [
    "def compute_metrics(eval_pred):\n",
    "    predictions, labels = eval_pred\n",
    "    predictions = torch.sigmoid(torch.tensor(predictions))\n",
    "    predictions = (predictions > 0.5).float()\n",
    "    \n",
    "    # Hamming loss (im mniejszy tym lepiej)\n",
    "    hamming = hamming_loss(labels, predictions)\n",
    "    \n",
    "    # F1 score macro\n",
    "    f1_macro = f1_score(labels, predictions, average='macro', zero_division=0)\n",
    "    \n",
    "    # F1 score micro\n",
    "    f1_micro = f1_score(labels, predictions, average='micro', zero_division=0)\n",
    "    \n",
    "    return {\n",
    "        'hamming_loss': hamming,\n",
    "        'f1_macro': f1_macro,\n",
    "        'f1_micro': f1_micro\n",
    "    }"
   ]
  },
  {
   "cell_type": "code",
   "execution_count": 5,
   "id": "53e0b874",
   "metadata": {},
   "outputs": [],
   "source": [
    "def prepare_data(df):\n",
    "    \"\"\"\n",
    "    df - DataFrame z kolumnami:\n",
    "    - kolumny 0-768: embedding values (będą ignorowane)\n",
    "    - kolumny emotion: Joy, Trust, Anticipation, Surprise, Fear, Sadness, Disgust, Anger, Positive, Negative, Neutral\n",
    "    - kolumna 'text': oryginalny tekst (musisz ją dodać do DataFrame)\n",
    "    \"\"\"\n",
    "    \n",
    "    emotion_columns = ['Joy', 'Trust', 'Anticipation', 'Surprise', 'Fear',\n",
    "                      'Sadness', 'Disgust', 'Anger', 'Positive', 'Negative', 'Neutral']\n",
    "    \n",
    "    # Sprawdź czy masz kolumnę z tekstem\n",
    "    if 'text' not in df.columns:\n",
    "        raise ValueError(\"Musisz dodać kolumnę 'text' z oryginalnym tekstem do DataFrame!\")\n",
    "    \n",
    "    texts = df['text'].tolist()\n",
    "    labels = df[emotion_columns].values.astype(float)\n",
    "    \n",
    "    return texts, labels, emotion_columns"
   ]
  },
  {
   "cell_type": "code",
   "execution_count": 6,
   "id": "ca6206aa",
   "metadata": {},
   "outputs": [],
   "source": [
    "def train_emotion_classifier(df, model_name='sdadas/polish-distilroberta', test_size=0.2):\n",
    "    # Przygotuj dane\n",
    "    texts, labels, emotion_columns = prepare_data(df)\n",
    "    \n",
    "    # Podział na train/test\n",
    "    X_train, X_test, y_train, y_test = train_test_split(\n",
    "        texts, labels, test_size=test_size, random_state=42, stratify=None\n",
    "    )\n",
    "    \n",
    "    # Załaduj tokenizer i model\n",
    "    tokenizer = AutoTokenizer.from_pretrained(model_name)\n",
    "    model = AutoModelForSequenceClassification.from_pretrained(\n",
    "        model_name,\n",
    "        num_labels=len(emotion_columns),\n",
    "        problem_type=\"multi_label_classification\"\n",
    "    )\n",
    "    \n",
    "    # Przygotuj datasety\n",
    "    train_dataset = EmotionDataset(X_train, y_train, tokenizer)\n",
    "    test_dataset = EmotionDataset(X_test, y_test, tokenizer)\n",
    "    \n",
    "    # Argumenty treningu\n",
    "    training_args = TrainingArguments(\n",
    "        output_dir='./emotion_model',\n",
    "        num_train_epochs=3,\n",
    "        per_device_train_batch_size=16,\n",
    "        per_device_eval_batch_size=16,\n",
    "        warmup_steps=500,\n",
    "        weight_decay=0.01,\n",
    "        logging_dir='./logs',\n",
    "        logging_steps=100,\n",
    "        eval_strategy=\"steps\",\n",
    "        eval_steps=500,\n",
    "        save_strategy=\"steps\",\n",
    "        save_steps=500,\n",
    "        load_best_model_at_end=True,\n",
    "        metric_for_best_model=\"f1_macro\",\n",
    "        greater_is_better=True,\n",
    "        report_to=None,  # wyłącz wandb\n",
    "    )\n",
    "    \n",
    "    # Trainer\n",
    "    trainer = Trainer(\n",
    "        model=model,\n",
    "        args=training_args,\n",
    "        train_dataset=train_dataset,\n",
    "        eval_dataset=test_dataset,\n",
    "        compute_metrics=compute_metrics,\n",
    "        callbacks=[EarlyStoppingCallback(early_stopping_patience=3)]\n",
    "    )\n",
    "    \n",
    "    # Trenuj model\n",
    "    print(\"Rozpoczynam fine-tuning...\")\n",
    "    trainer.train()\n",
    "    \n",
    "    # Zapisz model\n",
    "    trainer.save_model('./emotion_model_final')\n",
    "    tokenizer.save_pretrained('./emotion_model_final')\n",
    "    \n",
    "    # Ewaluuj na test set\n",
    "    print(\"\\nEwaluacja na test set:\")\n",
    "    test_results = trainer.evaluate(test_dataset)\n",
    "    for key, value in test_results.items():\n",
    "        print(f\"{key}: {value:.4f}\")\n",
    "    \n",
    "    return trainer, model, tokenizer"
   ]
  },
  {
   "cell_type": "code",
   "execution_count": 7,
   "id": "7165827a",
   "metadata": {},
   "outputs": [],
   "source": [
    "def predict_emotions(texts, model_path='./emotion_model_final'):\n",
    "    emotion_labels = ['Joy', 'Trust', 'Anticipation', 'Surprise', 'Fear',\n",
    "                     'Sadness', 'Disgust', 'Anger', 'Positive', 'Negative', 'Neutral']\n",
    "    \n",
    "    tokenizer = AutoTokenizer.from_pretrained(model_path)\n",
    "    model = AutoModelForSequenceClassification.from_pretrained(model_path)\n",
    "    model.eval()\n",
    "    \n",
    "    predictions = []\n",
    "    \n",
    "    with torch.no_grad():\n",
    "        for text in texts:\n",
    "            inputs = tokenizer(\n",
    "                text, \n",
    "                return_tensors='pt', \n",
    "                truncation=True, \n",
    "                padding=True, \n",
    "                max_length=512\n",
    "            )\n",
    "            \n",
    "            outputs = model(**inputs)\n",
    "            probs = torch.sigmoid(outputs.logits).squeeze().cpu().numpy()\n",
    "            \n",
    "            # Threshold 0.5\n",
    "            pred_labels = (probs > 0.5).astype(int)\n",
    "            \n",
    "            predictions.append({\n",
    "                'text': text,\n",
    "                'probabilities': dict(zip(emotion_labels, probs)),\n",
    "                'predicted_labels': dict(zip(emotion_labels, pred_labels))\n",
    "            })\n",
    "    \n",
    "    return predictions"
   ]
  },
  {
   "cell_type": "code",
   "execution_count": 8,
   "id": "c31f2381",
   "metadata": {},
   "outputs": [],
   "source": [
    "df = pd.read_csv('../data/raw/test.csv')\n",
    "\n",
    "def delete_hashs(df: pd.DataFrame) -> pd.DataFrame:\n",
    "    df = df[~df['text'].astype(str).str.startswith('#')]\n",
    "    df = df.reset_index(drop=True)\n",
    "    return df\n",
    "\n",
    "def encode_labels(df: pd.DataFrame) -> pd.DataFrame:\n",
    "    for col in ['Joy', 'Trust', 'Anticipation', 'Surprise', 'Fear','Sadness', 'Disgust', 'Anger', 'Positive', 'Negative', 'Neutral']:\n",
    "        df[col] = df[col].apply(lambda x: 1 if x else 0)\n",
    "    return df\n",
    "\n",
    "df = delete_hashs(df)\n",
    "df = encode_labels(df)"
   ]
  },
  {
   "cell_type": "code",
   "execution_count": null,
   "id": "4c855ca6",
   "metadata": {},
   "outputs": [
    {
     "name": "stderr",
     "output_type": "stream",
     "text": [
      "Some weights of RobertaForSequenceClassification were not initialized from the model checkpoint at sdadas/polish-distilroberta and are newly initialized: ['classifier.dense.bias', 'classifier.dense.weight', 'classifier.out_proj.bias', 'classifier.out_proj.weight']\n",
      "You should probably TRAIN this model on a down-stream task to be able to use it for predictions and inference.\n"
     ]
    },
    {
     "name": "stdout",
     "output_type": "stream",
     "text": [
      "Rozpoczynam fine-tuning...\n"
     ]
    },
    {
     "name": "stderr",
     "output_type": "stream",
     "text": [
      "/Users/mchojna/Documents/Repozytoria/emotion-and-sentiment-recognition/.venv/lib/python3.9/site-packages/torch/utils/data/dataloader.py:683: UserWarning: 'pin_memory' argument is set as true but not supported on MPS now, then device pinned memory won't be used.\n",
      "  warnings.warn(warn_msg)\n"
     ]
    },
    {
     "data": {
      "text/html": [
       "\n",
       "    <div>\n",
       "      \n",
       "      <progress value='122' max='192' style='width:300px; height:20px; vertical-align: middle;'></progress>\n",
       "      [122/192 2:52:42 < 1:40:44, 0.01 it/s, Epoch 1.89/3]\n",
       "    </div>\n",
       "    <table border=\"1\" class=\"dataframe\">\n",
       "  <thead>\n",
       " <tr style=\"text-align: left;\">\n",
       "      <th>Step</th>\n",
       "      <th>Training Loss</th>\n",
       "      <th>Validation Loss</th>\n",
       "    </tr>\n",
       "  </thead>\n",
       "  <tbody>\n",
       "  </tbody>\n",
       "</table><p>"
      ],
      "text/plain": [
       "<IPython.core.display.HTML object>"
      ]
     },
     "metadata": {},
     "output_type": "display_data"
    }
   ],
   "source": [
    "\n",
    "\n",
    "# Trenuj model\n",
    "trainer, model, tokenizer = train_emotion_classifier(df)\n",
    "\n",
    "# # Przykład predykcji\n",
    "# sample_texts = [\"Jestem bardzo szczęśliwy dzisiaj!\", \"To mnie denerwuje...\"]\n",
    "# results = predict_emotions(sample_texts)\n",
    "# for result in results:\n",
    "#     print(f\"Tekst: {result['text']}\")\n",
    "#     print(f\"Przewidziane emocje: {result['predicted_labels']}\")\n",
    "#     print(\"---\")\n"
   ]
  },
  {
   "cell_type": "code",
   "execution_count": null,
   "id": "3c52b08b",
   "metadata": {},
   "outputs": [],
   "source": []
  }
 ],
 "metadata": {
  "kernelspec": {
   "display_name": ".venv (3.9.22)",
   "language": "python",
   "name": "python3"
  },
  "language_info": {
   "codemirror_mode": {
    "name": "ipython",
    "version": 3
   },
   "file_extension": ".py",
   "mimetype": "text/x-python",
   "name": "python",
   "nbconvert_exporter": "python",
   "pygments_lexer": "ipython3",
   "version": "3.9.22"
  }
 },
 "nbformat": 4,
 "nbformat_minor": 5
}
