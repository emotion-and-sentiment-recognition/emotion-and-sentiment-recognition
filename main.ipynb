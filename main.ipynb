{
 "cells": [
  {
   "cell_type": "code",
   "execution_count": 4,
   "id": "5cc90cd6",
   "metadata": {},
   "outputs": [],
   "source": [
    "import os\n",
    "import pandas as pd\n",
    "\n",
    "if os.path.exists(\"../data/test.csv\") and os.path.exists(\"../data/val.csv\") and os.path.exists(\"../data/train.csv\"):\n",
    "    train = pd.read_csv(\"../data/train.csv\")\n",
    "    val = pd.read_csv(\"../data/val.csv\")\n",
    "    test = pd.read_csv(\"../data/test.csv\")\n",
    "else:\n",
    "    # Login using e.g. `huggingface-cli login` to access this dataset\n",
    "    splits = {'train': 'data/train-00000-of-00001.parquet', 'val': 'data/val-00000-of-00001.parquet', 'test': 'data/test-00000-of-00001.parquet'}\n",
    "    \n",
    "    train = pd.read_parquet(\"hf://datasets/clarin-knext/CLARIN-Emo/\" + splits[\"train\"])\n",
    "    val = pd.read_parquet(\"hf://datasets/clarin-knext/CLARIN-Emo/\" + splits[\"val\"])\n",
    "    test = pd.read_parquet(\"hf://datasets/clarin-knext/CLARIN-Emo/\" + splits[\"test\"])\n",
    "    \n",
    "    train.to_csv('../data/train.csv', index=False)\n",
    "    val.to_csv('../data/val.csv', index=False)\n",
    "    test.to_csv('../data/test.csv', index=False)"
   ]
  },
  {
   "cell_type": "code",
   "execution_count": null,
   "id": "50a2fb8a",
   "metadata": {},
   "outputs": [],
   "source": []
  }
 ],
 "metadata": {
  "kernelspec": {
   "display_name": ".venv (3.9.22)",
   "language": "python",
   "name": "python3"
  },
  "language_info": {
   "codemirror_mode": {
    "name": "ipython",
    "version": 3
   },
   "file_extension": ".py",
   "mimetype": "text/x-python",
   "name": "python",
   "nbconvert_exporter": "python",
   "pygments_lexer": "ipython3",
   "version": "3.9.22"
  }
 },
 "nbformat": 4,
 "nbformat_minor": 5
}
